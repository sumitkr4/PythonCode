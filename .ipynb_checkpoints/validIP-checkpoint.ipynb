{
 "cells": [
  {
   "cell_type": "code",
   "execution_count": 99,
   "metadata": {},
   "outputs": [
    {
     "name": "stdout",
     "output_type": "stream",
     "text": [
      "1\n",
      "IPv6\n"
     ]
    }
   ],
   "source": [
    "\n"
   ]
  },
  {
   "cell_type": "code",
   "execution_count": null,
   "metadata": {},
   "outputs": [],
   "source": []
  },
  {
   "cell_type": "code",
   "execution_count": 56,
   "metadata": {},
   "outputs": [],
   "source": [
    "with open(\"t1.txt\",'r') as f:\n",
    "    data=f.read()\n",
    "with open('output.txt','w') as o:\n",
    "    o.write(data)\n",
    "    "
   ]
  },
  {
   "cell_type": "code",
   "execution_count": 98,
   "metadata": {},
   "outputs": [],
   "source": [
    "import threading \n",
    "data1=data2=data3=\"\"\n",
    "def readFile1(): \n",
    "    \"\"\" \n",
    "    function to read from t1.txt file \n",
    "    \"\"\"\n",
    "    global data1\n",
    "    file1 = open(\"t1.txt\",\"r\")\n",
    "    data1=file1.read()\n",
    "def readFile2(): \n",
    "    \"\"\" \n",
    "    function to read from t2.txt file \n",
    "    \"\"\"\n",
    "    global data2\n",
    "    file1 = open('t2.txt', 'r')\n",
    "    data2=file1.read() \n",
    "\n",
    "def readFile3(): \n",
    "    \"\"\" \n",
    "    function to read from t3.txt file \n",
    "    \"\"\"\n",
    "    global data3\n",
    "    file1 = open('t3.txt', 'r')\n",
    "    data3=file1.read()\n",
    "\n",
    "    \n",
    "t1 = threading.Thread(target=readFile1)\n",
    "t1.start() \n",
    "\n",
    "t2 = threading.Thread(target=readFile2)\n",
    "t2.start()\n",
    "\n",
    "t3 = threading.Thread(target=readFile3)\n",
    "t3.start()\n",
    "#     t4 = threading.Thread(target=mergeFile)\n",
    "\n",
    "t1.join() \n",
    "t2.join() \n",
    "t3.join()\n",
    "\n",
    "def mergeFile():\n",
    "    \"\"\"\n",
    "    function to merge all three file text in a single file\n",
    "    \"\"\"\n",
    "    with open(\"output.txt\",'w') as o:\n",
    "        o.write(data1)\n",
    "        o.write(data2)\n",
    "        o.write(data3)\n",
    "\n",
    "mergeFile()"
   ]
  },
  {
   "cell_type": "code",
   "execution_count": 74,
   "metadata": {},
   "outputs": [
    {
     "name": "stdout",
     "output_type": "stream",
     "text": [
      "Invalid IPv6\n"
     ]
    }
   ],
   "source": [
    "import re\n",
    "def validate_Ip(ip_str):\n",
    "    # Regex for validating IPv4\n",
    "    ipv4_re = r\"^(([0-9]|[1-9][0-9]|1[0-9]{2}|2[0-4][0-9]|25[0-5])\\.){3}([0-9]|[1-9][0-9]|1[0-9]{2}|2[0-4][0-9]|25[0-5])$\"\n",
    "    ipv6_re = r\"((([0-9a-fA-F]){1,4})\\\\:){7}([0-9a-fA-F]){1,4}\"\n",
    "#     p = re.compile(reg)\n",
    "#     p1 = re.compile(reg1)\n",
    "    \n",
    "    if '.' in ip_str:\n",
    "        if(re.search(ipv4_re, ip_str)):  \n",
    "            return \"Valid IPv4\"\n",
    "        else:  \n",
    "            print(\"Invalid IPv4\")\n",
    "    else:\n",
    "        if(re.search(ipv6_re, ip_str)):  \n",
    "            return \"Valid IPv6\"\n",
    "        else:  \n",
    "            print(\"Invalid IPv6\")\n",
    "validate_Ip('8003::1')"
   ]
  },
  {
   "cell_type": "code",
   "execution_count": 88,
   "metadata": {},
   "outputs": [
    {
     "name": "stdout",
     "output_type": "stream",
     "text": [
      "sumit \n",
      "\n"
     ]
    }
   ],
   "source": [
    "file = open(\"t1.txt\", \"r\")  \n",
    "print (file.read())"
   ]
  },
  {
   "cell_type": "code",
   "execution_count": 1,
   "metadata": {},
   "outputs": [
    {
     "ename": "NameError",
     "evalue": "name 's' is not defined",
     "output_type": "error",
     "traceback": [
      "\u001b[0;31m---------------------------------------------------------------------------\u001b[0m",
      "\u001b[0;31mNameError\u001b[0m                                 Traceback (most recent call last)",
      "\u001b[0;32m<ipython-input-1-29bf752ce93d>\u001b[0m in \u001b[0;36m<module>\u001b[0;34m\u001b[0m\n\u001b[1;32m     23\u001b[0m         \u001b[0;32mreturn\u001b[0m \u001b[0;34m\"IPv4\"\u001b[0m\u001b[0;34m\u001b[0m\u001b[0;34m\u001b[0m\u001b[0m\n\u001b[1;32m     24\u001b[0m \u001b[0;31m# print(s.validIPAddress(\"192.20.01.0\"))\u001b[0m\u001b[0;34m\u001b[0m\u001b[0;34m\u001b[0m\u001b[0;34m\u001b[0m\u001b[0m\n\u001b[0;32m---> 25\u001b[0;31m \u001b[0mprint\u001b[0m\u001b[0;34m(\u001b[0m\u001b[0ms\u001b[0m\u001b[0;34m.\u001b[0m\u001b[0mvalidIPAddress\u001b[0m\u001b[0;34m(\u001b[0m\u001b[0;34m\"8003:0:0:0:0:0:0:1\"\u001b[0m\u001b[0;34m)\u001b[0m\u001b[0;34m)\u001b[0m\u001b[0;34m\u001b[0m\u001b[0;34m\u001b[0m\u001b[0m\n\u001b[0m",
      "\u001b[0;31mNameError\u001b[0m: name 's' is not defined"
     ]
    }
   ],
   "source": [
    "def validIPAddress(self,IP):\n",
    "    if \":\" in IP:\n",
    "        IP=IP.split(\":\")\n",
    "        print(len(IP[1]))\n",
    "        for i in IP:\n",
    "            if len(i)>4 or not i.isalnum() or len(i)<0:return \"Invalid IPV61\" \n",
    "            for j in i:\n",
    "                if j.isalpha():\n",
    "                    if j.isupper(): \n",
    "                        if ord(j)>ord(\"F\"):return \"Invalid IPV62\" \n",
    "                    else:\n",
    "                        if ord(j)>ord(\"f\"):return \"Invalid IPV63\" \n",
    "        return \"IPv6\" \n",
    "    else:\n",
    "        IP=IP.split(\".\")\n",
    "        print(IP)\n",
    "        if len(IP)!=4:return \"Invalid IPV4\"\n",
    "        for i in IP:\n",
    "            if (len(i)>1 and i[0]==\"0\") or not i.isnumeric(): return \"Invalid IPV4\" \n",
    "\n",
    "            elif (int(i)>255 or int(i)<0):\n",
    "                return \"Invalid IPV4\"\n",
    "        return \"IPv4\"\n",
    "# print(s.validIPAddress(\"192.20.01.0\"))\n",
    "print(s.validIPAddress(\"8003:0:0:0:0:0:0:1\"))"
   ]
  },
  {
   "cell_type": "code",
   "execution_count": 2,
   "metadata": {},
   "outputs": [
    {
     "ename": "NameError",
     "evalue": "name 's' is not defined",
     "output_type": "error",
     "traceback": [
      "\u001b[0;31m---------------------------------------------------------------------------\u001b[0m",
      "\u001b[0;31mNameError\u001b[0m                                 Traceback (most recent call last)",
      "\u001b[0;32m<ipython-input-2-75a9828791b1>\u001b[0m in \u001b[0;36m<module>\u001b[0;34m\u001b[0m\n\u001b[1;32m     22\u001b[0m             \u001b[0;32mreturn\u001b[0m \u001b[0;34m\"IPv4\"\u001b[0m\u001b[0;34m\u001b[0m\u001b[0;34m\u001b[0m\u001b[0m\n\u001b[1;32m     23\u001b[0m \u001b[0;31m# print(s.validIPAddress(\"192.20.01.0\"))\u001b[0m\u001b[0;34m\u001b[0m\u001b[0;34m\u001b[0m\u001b[0;34m\u001b[0m\u001b[0m\n\u001b[0;32m---> 24\u001b[0;31m \u001b[0mprint\u001b[0m\u001b[0;34m(\u001b[0m\u001b[0ms\u001b[0m\u001b[0;34m.\u001b[0m\u001b[0mvalidIPAddress\u001b[0m\u001b[0;34m(\u001b[0m\u001b[0;34m\"8003:0:0:0:0:0:0:1\"\u001b[0m\u001b[0;34m)\u001b[0m\u001b[0;34m)\u001b[0m\u001b[0;34m\u001b[0m\u001b[0;34m\u001b[0m\u001b[0m\n\u001b[0m",
      "\u001b[0;31mNameError\u001b[0m: name 's' is not defined"
     ]
    }
   ],
   "source": [
    "class validation(object):\n",
    "    def validIPAddress(self, IP):\n",
    "        if \":\" in IP:\n",
    "            IP=IP.split(\":\")\n",
    "            for i in IP:\n",
    "                if len(i)>4 or not i.isalnum() or len(i)<0:return \"Invalid IPV6\" \n",
    "                for j in i:\n",
    "                    if j.isalpha():\n",
    "                        if j.isupper(): \n",
    "                            if ord(j)>ord(\"F\"):return \"Invalid IPV6\" \n",
    "                        else:\n",
    "                            if ord(j)>ord(\"f\"):return \"Invalid IPV6\" \n",
    "            return \"IPv6\" \n",
    "        else:\n",
    "            IP=IP.split(\".\")\n",
    "            if len(IP)!=4:return \"Invalid IPV4\"\n",
    "            for i in IP:\n",
    "                if (len(i)>1 and i[0]==\"0\") or not i.isnumeric(): return \"Invalid IPV4\" \n",
    "\n",
    "                elif (int(i)>255 or int(i)<0):\n",
    "                    return \"Invalid IPV4\"\n",
    "            return \"IPv4\"\n",
    "s=Solution()\n",
    "# print(s.validIPAddress(\"192.20.01.0\"))\n",
    "print(s.validIPAddress(\"8003:0:0:0:0:0:0:1\"))"
   ]
  },
  {
   "cell_type": "code",
   "execution_count": null,
   "metadata": {},
   "outputs": [],
   "source": []
  }
 ],
 "metadata": {
  "kernelspec": {
   "display_name": "Python 3",
   "language": "python",
   "name": "python3"
  }
 },
 "nbformat": 4,
 "nbformat_minor": 4
}
